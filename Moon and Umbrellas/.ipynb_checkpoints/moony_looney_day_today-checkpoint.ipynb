{
 "cells": [
  {
   "cell_type": "code",
   "execution_count": 9,
   "id": "educational-dutch",
   "metadata": {},
   "outputs": [],
   "source": [
    "def func():\n",
    "    return "
   ]
  },
  {
   "cell_type": "code",
   "execution_count": 11,
   "id": "departmental-liberty",
   "metadata": {},
   "outputs": [
    {
     "name": "stdout",
     "output_type": "stream",
     "text": [
      "Case #1: None\n",
      "Case #2: None\n",
      "Case #3: None\n",
      "Case #4: None\n"
     ]
    }
   ],
   "source": [
    "#cases=int(input())\n",
    "file_name = \"test1.txt\"\n",
    "file_handle = open(file_name)  \n",
    "cases = int(next(file_handle))\n",
    "\n",
    "for case in range(1,cases+1):\n",
    "    nr1, nr2, letters = next(file_handle).split()\n",
    "    nr1,nr2 = int(nr1), int(nr2)\n",
    "    answer = func()\n",
    "    print(f\"Case #{case}: {answer}\")\n",
    "file_handle.close()"
   ]
  },
  {
   "cell_type": "code",
   "execution_count": null,
   "id": "wanted-luxury",
   "metadata": {},
   "outputs": [],
   "source": []
  },
  {
   "cell_type": "code",
   "execution_count": null,
   "id": "friendly-variable",
   "metadata": {},
   "outputs": [],
   "source": []
  }
 ],
 "metadata": {
  "kernelspec": {
   "display_name": "Python 3",
   "language": "python",
   "name": "python3"
  },
  "language_info": {
   "codemirror_mode": {
    "name": "ipython",
    "version": 3
   },
   "file_extension": ".py",
   "mimetype": "text/x-python",
   "name": "python",
   "nbconvert_exporter": "python",
   "pygments_lexer": "ipython3",
   "version": "3.8.3"
  }
 },
 "nbformat": 4,
 "nbformat_minor": 5
}
