{
 "cells": [
  {
   "cell_type": "code",
   "execution_count": 1,
   "id": "important-bowling",
   "metadata": {},
   "outputs": [],
   "source": [
    "def count_inv(numbers,size):\n",
    "    inv = 0\n",
    "    \n",
    "    # findsmallest number\n",
    "    for i in range(0,size):\n",
    "        minimum = i + 1\n",
    "        argmin = numbers.index(minimum)\n",
    "        numbers[i:argmin+1] = numbers[i:argmin+1][::-1]\n",
    "        if i <= argmin+1:\n",
    "            inv+=argmin +1  - i\n",
    "    return inv - 1"
   ]
  },
  {
   "cell_type": "code",
   "execution_count": 2,
   "id": "accompanied-boost",
   "metadata": {},
   "outputs": [
    {
     "name": "stdout",
     "output_type": "stream",
     "text": [
      "Case #1: 6\n",
      "Case #2: 1\n",
      "Case #3: 12\n"
     ]
    }
   ],
   "source": [
    "#cases=int(input())\n",
    "file_name = \"test1.txt\"\n",
    "file_handle = open(file_name)  \n",
    "cases = int(next(file_handle))\n",
    "\n",
    "for case in range(1,cases+1):\n",
    "    size = int(next(file_handle))\n",
    "    numbers = [int(i) for i in next(file_handle).split()]\n",
    "    inv = count_inv(numbers,size)\n",
    "    print(f\"Case #{case}: {inv}\")\n",
    "file_handle.close()"
   ]
  },
  {
   "cell_type": "code",
   "execution_count": null,
   "id": "phantom-secretary",
   "metadata": {},
   "outputs": [],
   "source": []
  },
  {
   "cell_type": "code",
   "execution_count": null,
   "id": "abroad-matrix",
   "metadata": {},
   "outputs": [],
   "source": []
  }
 ],
 "metadata": {
  "kernelspec": {
   "display_name": "Python 3",
   "language": "python",
   "name": "python3"
  },
  "language_info": {
   "codemirror_mode": {
    "name": "ipython",
    "version": 3
   },
   "file_extension": ".py",
   "mimetype": "text/x-python",
   "name": "python",
   "nbconvert_exporter": "python",
   "pygments_lexer": "ipython3",
   "version": "3.8.3"
  }
 },
 "nbformat": 4,
 "nbformat_minor": 5
}
