{
 "cells": [
  {
   "cell_type": "code",
   "execution_count": 25,
   "id": "blond-estimate",
   "metadata": {},
   "outputs": [],
   "source": [
    "def count_inv(numbers,size):\n",
    "    inv = 0\n",
    "    \n",
    "    # findsmallest number\n",
    "    for i in range(0,size):\n",
    "        minimum = i + 1\n",
    "        argmin = numbers.index(minimum)\n",
    "        numbers[i:argmin+1] = numbers[i:argmin+1][::-1]\n",
    "        if i <= argmin+1:\n",
    "            inv+=argmin +1  - i\n",
    "    return inv - 1"
   ]
  },
  {
   "cell_type": "code",
   "execution_count": 26,
   "id": "formed-status",
   "metadata": {},
   "outputs": [],
   "source": [
    "def main_func(size,cost):\n",
    "    return 0"
   ]
  },
  {
   "cell_type": "code",
   "execution_count": 27,
   "id": "emotional-senator",
   "metadata": {},
   "outputs": [
    {
     "name": "stdout",
     "output_type": "stream",
     "text": [
      "4 6\n",
      "Case #1: 0\n",
      "2 1\n",
      "Case #2: 0\n",
      "7 12\n",
      "Case #3: 0\n",
      "7 2\n",
      "Case #4: 0\n",
      "2 1000\n",
      "Case #5: 0\n"
     ]
    }
   ],
   "source": [
    "#cases=int(input())\n",
    "file_name = \"test1.txt\"\n",
    "file_handle = open(file_name)  \n",
    "cases = int(next(file_handle))\n",
    "\n",
    "for case in range(1,cases+1):\n",
    "    size, cost = map(int, (next(file_handle)).split())\n",
    "    answer = main_func(size,cost)\n",
    "    print(size,cost)\n",
    "    print(f\"Case #{case}: {answer}\")\n",
    "file_handle.close()"
   ]
  },
  {
   "cell_type": "code",
   "execution_count": null,
   "id": "christian-ticket",
   "metadata": {},
   "outputs": [],
   "source": []
  }
 ],
 "metadata": {
  "kernelspec": {
   "display_name": "Python 3",
   "language": "python",
   "name": "python3"
  },
  "language_info": {
   "codemirror_mode": {
    "name": "ipython",
    "version": 3
   },
   "file_extension": ".py",
   "mimetype": "text/x-python",
   "name": "python",
   "nbconvert_exporter": "python",
   "pygments_lexer": "ipython3",
   "version": "3.8.3"
  }
 },
 "nbformat": 4,
 "nbformat_minor": 5
}
