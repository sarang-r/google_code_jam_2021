{
 "cells": [
  {
   "cell_type": "code",
   "execution_count": 1,
   "id": "active-tuesday",
   "metadata": {},
   "outputs": [],
   "source": [
    "def all_perms(elements):\n",
    "    if len(elements) <=1:\n",
    "        yield elements\n",
    "    else:\n",
    "        for perm in all_perms(elements[1:]):\n",
    "            for i in range(len(elements)):\n",
    "                yield perm[:i] + elements[0:1] + perm[i:]"
   ]
  },
  {
   "cell_type": "code",
   "execution_count": 2,
   "id": "alpha-repeat",
   "metadata": {},
   "outputs": [],
   "source": [
    "def factorial(size):\n",
    "    factorial = 1\n",
    "    for i in range (1,int(size)+1):\n",
    "        factorial = factorial * i\n",
    "    return factorial"
   ]
  },
  {
   "cell_type": "code",
   "execution_count": 3,
   "id": "honey-garbage",
   "metadata": {},
   "outputs": [],
   "source": [
    "def count_inv(numbers,size):\n",
    "    inv = 0\n",
    "    for i in range(0,size):\n",
    "        minimum = i + 1\n",
    "        argmin = numbers.index(minimum)\n",
    "        numbers[i:argmin+1] = numbers[i:argmin+1][::-1]\n",
    "        if i <= argmin+1:\n",
    "            inv+=argmin +1  - i\n",
    "    return inv -1"
   ]
  },
  {
   "cell_type": "code",
   "execution_count": 17,
   "id": "approved-military",
   "metadata": {},
   "outputs": [],
   "source": [
    "def main_func(size,cost):\n",
    "    lst = [i for i in range(1,size+1)]\n",
    "    generator = all_perms(lst)\n",
    "    perm_nr = factorial(size)\n",
    "    for i in range(perm_nr):\n",
    "        lst = next(generator)\n",
    "        temp_lst = lst.copy()\n",
    "        inv_cost = count_inv(lst, size)\n",
    "        if inv_cost == cost:\n",
    "            return temp_lst\n",
    "        \n",
    "    return \"IMPOSSIBLE\""
   ]
  },
  {
   "cell_type": "code",
   "execution_count": 18,
   "id": "domestic-response",
   "metadata": {},
   "outputs": [
    {
     "name": "stdout",
     "output_type": "stream",
     "text": [
      "Case #1: 2 3 1 4\n",
      "Case #2: 1 2\n",
      "Case #3: 3 1 4 5 2 6 7\n",
      "Case #4: IMPOSSIBLE\n",
      "Case #5: IMPOSSIBLE\n"
     ]
    }
   ],
   "source": [
    "file_name = \"test1.txt\"\n",
    "file_handle = open(file_name)  \n",
    "cases = int(next(file_handle))\n",
    "\n",
    "for case in range(1,cases+1):\n",
    "    size, cost = map(int, (next(file_handle)).split())\n",
    "#     print(size,cost)\n",
    "    answer = main_func(size,cost)\n",
    "    if answer==\"IMPOSSIBLE\":\n",
    "        print(f\"Case #{case}:\",answer)\n",
    "    else:\n",
    "        print(f\"Case #{case}:\",*answer)\n",
    "file_handle.close()"
   ]
  }
 ],
 "metadata": {
  "kernelspec": {
   "display_name": "Python 3",
   "language": "python",
   "name": "python3"
  },
  "language_info": {
   "codemirror_mode": {
    "name": "ipython",
    "version": 3
   },
   "file_extension": ".py",
   "mimetype": "text/x-python",
   "name": "python",
   "nbconvert_exporter": "python",
   "pygments_lexer": "ipython3",
   "version": "3.8.3"
  }
 },
 "nbformat": 4,
 "nbformat_minor": 5
}
