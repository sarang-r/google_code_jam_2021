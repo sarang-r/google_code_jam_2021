{
 "cells": [
  {
   "cell_type": "code",
   "execution_count": 8,
   "id": "intense-seven",
   "metadata": {},
   "outputs": [],
   "source": [
    "def count_inv(numbers,size):\n",
    "    inv = 0\n",
    "    \n",
    "    # findsmallest number\n",
    "    for i in range(0,size):\n",
    "        minimum = i + 1\n",
    "        argmin = numbers.index(minimum)\n",
    "        numbers[i:argmin+1] = numbers[i:argmin+1][::-1]\n",
    "        if i <= argmin+1:\n",
    "            inv+=argmin +1  - i\n",
    "        \n",
    "\n",
    "    return inv - 1"
   ]
  },
  {
   "cell_type": "code",
   "execution_count": 9,
   "id": "expensive-architect",
   "metadata": {},
   "outputs": [
    {
     "name": "stdout",
     "output_type": "stream",
     "text": [
      "Case #1: 6\n",
      "Case #2: 1\n",
      "Case #3: 12\n"
     ]
    }
   ],
   "source": [
    "#cases=int(input())\n",
    "file_name = \"test1.txt\"\n",
    "file_handle = open(file_name)  \n",
    "cases = int(next(file_handle))\n",
    "\n",
    "for case in range(1,cases+1):\n",
    "    size = int(next(file_handle))\n",
    "    numbers = [int(i) for i in next(file_handle).split()]\n",
    "    inv = count_inv(numbers,size)\n",
    "    print(f\"Case #{case}: {inv}\")\n",
    "file_handle.close()"
   ]
  }
 ],
 "metadata": {
  "kernelspec": {
   "display_name": "Python 3",
   "language": "python",
   "name": "python3"
  },
  "language_info": {
   "codemirror_mode": {
    "name": "ipython",
    "version": 3
   },
   "file_extension": ".py",
   "mimetype": "text/x-python",
   "name": "python",
   "nbconvert_exporter": "python",
   "pygments_lexer": "ipython3",
   "version": "3.8.3"
  }
 },
 "nbformat": 4,
 "nbformat_minor": 5
}
