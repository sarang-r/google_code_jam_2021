{
 "cells": [
  {
   "cell_type": "code",
   "execution_count": 187,
   "id": "selective-bearing",
   "metadata": {},
   "outputs": [],
   "source": [
    "def trim(string):\n",
    "    # Cut all the '?' from beginning\n",
    "    ind = 0\n",
    "    while string[ind] ==\"?\" and ind<len(string)-1:\n",
    "        ind+=1\n",
    "    string = string[ind:]\n",
    "    # Handle very specific corner cases of entire string being '??????'\n",
    "    if string ==\"?\":\n",
    "        return None\n",
    "    \n",
    "    # Cut all the '?' from the end\n",
    "    ind = 1\n",
    "    while string[-ind] ==\"?\":\n",
    "        ind+=1\n",
    "    if ind==1:\n",
    "        return string\n",
    "    else :\n",
    "        return string[:-ind+1]\n",
    "    return string"
   ]
  },
  {
   "cell_type": "code",
   "execution_count": 188,
   "id": "objective-pilot",
   "metadata": {},
   "outputs": [],
   "source": [
    "def func(CJ_cost,JC_cost,string):\n",
    "#     print(string)\n",
    "#     print(trim(string))\n",
    "    string = trim(string)\n",
    "    if string ==None:\n",
    "        return 0\n",
    "    \n",
    "    ind, cost = 0,0\n",
    "    while ind < len(string)-1:\n",
    "        left = string[ind]\n",
    "        right = string[ind+1]\n",
    "        if right !=\"?\":\n",
    "            if left!=right:\n",
    "                if left == \"C\":\n",
    "                    cost+=CJ_cost\n",
    "                elif left ==\"J\":\n",
    "                    cost+=JC_cost\n",
    "        else:\n",
    "            while right==\"?\":\n",
    "                ind+=1\n",
    "                right = string[ind+1]\n",
    "            if left !=right:\n",
    "                if left == \"C\":\n",
    "                    cost+=CJ_cost\n",
    "                elif left ==\"J\":\n",
    "                    cost+=JC_cost\n",
    "        ind+=1\n",
    "    return cost"
   ]
  },
  {
   "cell_type": "code",
   "execution_count": 189,
   "id": "ongoing-victoria",
   "metadata": {},
   "outputs": [
    {
     "name": "stdout",
     "output_type": "stream",
     "text": [
      "Case #1: 5\n",
      "Case #2: 10\n",
      "Case #3: 1\n",
      "Case #4: 0\n",
      "Case #5: 0\n"
     ]
    }
   ],
   "source": [
    "#cases=int(input())\n",
    "file_name = \"test1.txt\"\n",
    "file_handle = open(file_name)  \n",
    "cases = int(next(file_handle))\n",
    "\n",
    "for case in range(1,cases+1):\n",
    "    nr1, nr2, string = next(file_handle).split()\n",
    "    CJ_cost, JC_cost = int(nr1), int(nr2)\n",
    "    answer = func(CJ_cost,JC_cost,string)\n",
    "    print(f\"Case #{case}: {answer}\")\n",
    "file_handle.close()"
   ]
  }
 ],
 "metadata": {
  "kernelspec": {
   "display_name": "Python 3",
   "language": "python",
   "name": "python3"
  },
  "language_info": {
   "codemirror_mode": {
    "name": "ipython",
    "version": 3
   },
   "file_extension": ".py",
   "mimetype": "text/x-python",
   "name": "python",
   "nbconvert_exporter": "python",
   "pygments_lexer": "ipython3",
   "version": "3.8.3"
  }
 },
 "nbformat": 4,
 "nbformat_minor": 5
}
